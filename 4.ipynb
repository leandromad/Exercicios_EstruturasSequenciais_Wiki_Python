{
 "cells": [
  {
   "cell_type": "markdown",
   "id": "4c0d1744",
   "metadata": {},
   "source": [
    "# Exercício 4\n",
    "\n",
    "Faça um Programa que peça as 4 notas bimestrais e mostre a média."
   ]
  },
  {
   "cell_type": "code",
   "execution_count": 6,
   "id": "0b5a9c4c",
   "metadata": {},
   "outputs": [
    {
     "name": "stdout",
     "output_type": "stream",
     "text": [
      "Por favor, insira a sua nota 1: 7.5\n",
      "Por favor, insira a sua nota 2: 10\n",
      "Por favor, insira a sua nota 3: 3.45\n",
      "Por favor, insira a sua nota 4: 6.3\n",
      "A média é 6.8125\n"
     ]
    }
   ],
   "source": [
    "nota_1 = float(input(\"Por favor, insira a sua nota 1: \"))\n",
    "nota_2 = float(input(\"Por favor, insira a sua nota 2: \"))\n",
    "nota_3 = float(input(\"Por favor, insira a sua nota 3: \"))\n",
    "nota_4 = float(input(\"Por favor, insira a sua nota 4: \"))\n",
    "media = sum([nota_1,nota_2,nota_3,nota_4]) / 4\n",
    "print(f\"A média é {media}\")"
   ]
  },
  {
   "cell_type": "code",
   "execution_count": null,
   "id": "5eddfd28",
   "metadata": {},
   "outputs": [],
   "source": []
  }
 ],
 "metadata": {
  "kernelspec": {
   "display_name": "Python 3 (ipykernel)",
   "language": "python",
   "name": "python3"
  },
  "language_info": {
   "codemirror_mode": {
    "name": "ipython",
    "version": 3
   },
   "file_extension": ".py",
   "mimetype": "text/x-python",
   "name": "python",
   "nbconvert_exporter": "python",
   "pygments_lexer": "ipython3",
   "version": "3.9.13"
  }
 },
 "nbformat": 4,
 "nbformat_minor": 5
}
