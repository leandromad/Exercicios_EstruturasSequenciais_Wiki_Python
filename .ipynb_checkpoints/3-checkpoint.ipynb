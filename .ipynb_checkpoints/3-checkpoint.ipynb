{
 "cells": [
  {
   "cell_type": "markdown",
   "id": "ef533f41",
   "metadata": {},
   "source": [
    "# Exercício 3\n",
    "\n",
    "Faça um Programa que peça dois números e imprima a soma."
   ]
  },
  {
   "cell_type": "code",
   "execution_count": 1,
   "id": "fd658a45",
   "metadata": {},
   "outputs": [
    {
     "name": "stdout",
     "output_type": "stream",
     "text": [
      "Digite o primeiro número: 20\n",
      "Digite o segundo número: 5\n",
      "A soma de 20 + 5 é igual a 25\n"
     ]
    }
   ],
   "source": [
    "numero_1 = int(input(\"Digite o primeiro número: \"))\n",
    "numero_2 = int(input(\"Digite o segundo número: \"))\n",
    "soma = numero_1 + numero_2 \n",
    "print(f\"A soma de {numero_1} + {numero_2} é igual a {soma}\")"
   ]
  },
  {
   "cell_type": "code",
   "execution_count": null,
   "id": "32f8e5a4",
   "metadata": {},
   "outputs": [],
   "source": []
  }
 ],
 "metadata": {
  "kernelspec": {
   "display_name": "Python 3 (ipykernel)",
   "language": "python",
   "name": "python3"
  },
  "language_info": {
   "codemirror_mode": {
    "name": "ipython",
    "version": 3
   },
   "file_extension": ".py",
   "mimetype": "text/x-python",
   "name": "python",
   "nbconvert_exporter": "python",
   "pygments_lexer": "ipython3",
   "version": "3.9.13"
  }
 },
 "nbformat": 4,
 "nbformat_minor": 5
}
