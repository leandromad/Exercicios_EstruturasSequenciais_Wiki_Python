{
 "cells": [
  {
   "cell_type": "markdown",
   "id": "0d746288",
   "metadata": {},
   "source": [
    "# Exercício 8\n",
    "\n",
    "Faça um Programa que pergunte quanto você ganha por hora e o número de horas trabalhadas no mês. Calcule e mostre o total do seu salário no referido mês."
   ]
  },
  {
   "cell_type": "code",
   "execution_count": 2,
   "id": "0ab906c8",
   "metadata": {},
   "outputs": [
    {
     "name": "stdout",
     "output_type": "stream",
     "text": [
      "Insira o valor do seu sálario por hora [R$]: 18.50\n",
      "Insira o total de horas trabalhadas no mês [h]: 30\n",
      "O seu sálario no mês é R$555.00\n"
     ]
    }
   ],
   "source": [
    "salario_por_hora = float(input(\"Insira o valor do seu sálario por hora [R$]: \"))\n",
    "horas_trabalhadas = float(input(\"Insira o total de horas trabalhadas no mês [h]: \"))\n",
    "salario = salario_por_hora * horas_trabalhadas\n",
    "salario = '{:.2f}'.format(salario)\n",
    "print(f\"O seu sálario no mês é R${salario}\")"
   ]
  },
  {
   "cell_type": "code",
   "execution_count": null,
   "id": "17df0acd",
   "metadata": {},
   "outputs": [],
   "source": []
  }
 ],
 "metadata": {
  "kernelspec": {
   "display_name": "Python 3 (ipykernel)",
   "language": "python",
   "name": "python3"
  },
  "language_info": {
   "codemirror_mode": {
    "name": "ipython",
    "version": 3
   },
   "file_extension": ".py",
   "mimetype": "text/x-python",
   "name": "python",
   "nbconvert_exporter": "python",
   "pygments_lexer": "ipython3",
   "version": "3.9.13"
  }
 },
 "nbformat": 4,
 "nbformat_minor": 5
}
