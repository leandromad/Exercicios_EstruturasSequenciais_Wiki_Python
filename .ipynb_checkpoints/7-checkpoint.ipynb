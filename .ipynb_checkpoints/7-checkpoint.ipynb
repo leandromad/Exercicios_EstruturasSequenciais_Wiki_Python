{
 "cells": [
  {
   "cell_type": "markdown",
   "id": "e398207a",
   "metadata": {},
   "source": [
    "# Exercício 7\n",
    "\n",
    "Faça um Programa que calcule a área de um quadrado, em seguida mostre o dobro desta área para o usuário."
   ]
  },
  {
   "cell_type": "code",
   "execution_count": 3,
   "id": "5fd34200",
   "metadata": {},
   "outputs": [
    {
     "name": "stdout",
     "output_type": "stream",
     "text": [
      "Insira a medida do lado do quadrado [cm]: 5\n",
      "O quadrado de lado 5.0cm tem sua área igual a 25.0cm² e o dobro da sua área é 50.0cm²\n"
     ]
    }
   ],
   "source": [
    "lado = float(input(\"Insira a medida do lado do quadrado [cm]: \"))\n",
    "area = lado**2\n",
    "dobro_area = area * 2\n",
    "print(f\"O quadrado de lado {lado}cm tem sua área igual a {area}cm² e o dobro da sua área é {dobro_area}cm²\")"
   ]
  },
  {
   "cell_type": "code",
   "execution_count": null,
   "id": "ca2a505a",
   "metadata": {},
   "outputs": [],
   "source": []
  }
 ],
 "metadata": {
  "kernelspec": {
   "display_name": "Python 3 (ipykernel)",
   "language": "python",
   "name": "python3"
  },
  "language_info": {
   "codemirror_mode": {
    "name": "ipython",
    "version": 3
   },
   "file_extension": ".py",
   "mimetype": "text/x-python",
   "name": "python",
   "nbconvert_exporter": "python",
   "pygments_lexer": "ipython3",
   "version": "3.9.13"
  }
 },
 "nbformat": 4,
 "nbformat_minor": 5
}
