{
 "cells": [
  {
   "cell_type": "markdown",
   "id": "61222299",
   "metadata": {},
   "source": [
    "# Exercício 9\n",
    "\n",
    "Faça um Programa que peça a temperatura em graus Fahrenheit, transforme e mostre a temperatura em graus Celsius"
   ]
  },
  {
   "cell_type": "code",
   "execution_count": 1,
   "id": "84d0b5d5",
   "metadata": {},
   "outputs": [
    {
     "name": "stdout",
     "output_type": "stream",
     "text": [
      "Insira a temperatura em graus Fahrenheit: 5\n",
      "5.0ºF convertido para celsius é -15.00ºC\n"
     ]
    }
   ],
   "source": [
    "fahrenheit = float(input(\"Insira a temperatura em graus Fahrenheit: \"))\n",
    "celsius = 5 * ((fahrenheit-32) / 9)\n",
    "celsius = '{:.2f}'.format(celsius)\n",
    "print(f\"{fahrenheit}ºF convertido para celsius é {celsius}ºC\")"
   ]
  },
  {
   "cell_type": "code",
   "execution_count": null,
   "id": "15551f0b",
   "metadata": {},
   "outputs": [],
   "source": []
  }
 ],
 "metadata": {
  "kernelspec": {
   "display_name": "Python 3 (ipykernel)",
   "language": "python",
   "name": "python3"
  },
  "language_info": {
   "codemirror_mode": {
    "name": "ipython",
    "version": 3
   },
   "file_extension": ".py",
   "mimetype": "text/x-python",
   "name": "python",
   "nbconvert_exporter": "python",
   "pygments_lexer": "ipython3",
   "version": "3.9.13"
  }
 },
 "nbformat": 4,
 "nbformat_minor": 5
}
