{
 "cells": [
  {
   "cell_type": "markdown",
   "id": "52e1253d",
   "metadata": {},
   "source": [
    "# Exercício 10\n",
    "\n",
    "Faça um Programa que peça a temperatura em graus Celsius, transforme e mostre em graus Fahrenheit."
   ]
  },
  {
   "cell_type": "code",
   "execution_count": 1,
   "id": "974fe428",
   "metadata": {},
   "outputs": [
    {
     "name": "stdout",
     "output_type": "stream",
     "text": [
      "Insira a temperatura em graus Celsius: 0\n",
      "0.0ºC convertido para fahrenheit é 32.00ºF\n"
     ]
    }
   ],
   "source": [
    "celsius = float(input(\"Insira a temperatura em graus Celsius: \"))\n",
    "fahrenheit = (celsius * (9/5)) + 32\n",
    "fahrenheit = '{:.2f}'.format(fahrenheit)\n",
    "print(f\"{celsius}ºC convertido para fahrenheit é {fahrenheit}ºF\")"
   ]
  },
  {
   "cell_type": "code",
   "execution_count": null,
   "id": "41a27ade",
   "metadata": {},
   "outputs": [],
   "source": []
  }
 ],
 "metadata": {
  "kernelspec": {
   "display_name": "Python 3 (ipykernel)",
   "language": "python",
   "name": "python3"
  },
  "language_info": {
   "codemirror_mode": {
    "name": "ipython",
    "version": 3
   },
   "file_extension": ".py",
   "mimetype": "text/x-python",
   "name": "python",
   "nbconvert_exporter": "python",
   "pygments_lexer": "ipython3",
   "version": "3.9.13"
  }
 },
 "nbformat": 4,
 "nbformat_minor": 5
}
