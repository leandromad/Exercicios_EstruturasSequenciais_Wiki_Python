{
 "cells": [
  {
   "cell_type": "markdown",
   "id": "82d56f41",
   "metadata": {},
   "source": [
    "# Exercício 5\n",
    "\n",
    "Faça um Programa que converta metros para centímetros."
   ]
  },
  {
   "cell_type": "code",
   "execution_count": 3,
   "id": "a31d0944",
   "metadata": {},
   "outputs": [
    {
     "name": "stdout",
     "output_type": "stream",
     "text": [
      "Insira o tamano em metros: 1\n",
      "1.0m convertido para centimetros é 100.0cm\n"
     ]
    }
   ],
   "source": [
    "metros = float(input(\"Insira o tamano em metros: \"))\n",
    "centimetros = metros*100\n",
    "print(f\"{metros}m convertido para centimetros é {centimetros}cm\")"
   ]
  },
  {
   "cell_type": "code",
   "execution_count": null,
   "id": "4650376e",
   "metadata": {},
   "outputs": [],
   "source": []
  }
 ],
 "metadata": {
  "kernelspec": {
   "display_name": "Python 3 (ipykernel)",
   "language": "python",
   "name": "python3"
  },
  "language_info": {
   "codemirror_mode": {
    "name": "ipython",
    "version": 3
   },
   "file_extension": ".py",
   "mimetype": "text/x-python",
   "name": "python",
   "nbconvert_exporter": "python",
   "pygments_lexer": "ipython3",
   "version": "3.9.13"
  }
 },
 "nbformat": 4,
 "nbformat_minor": 5
}
