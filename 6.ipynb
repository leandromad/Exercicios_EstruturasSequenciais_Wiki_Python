{
 "cells": [
  {
   "cell_type": "markdown",
   "id": "b705780d",
   "metadata": {},
   "source": [
    "# Exercício 6\n",
    "\n",
    "Faça um Programa que peça o raio de um círculo, calcule e mostre sua área."
   ]
  },
  {
   "cell_type": "code",
   "execution_count": 3,
   "id": "481f597d",
   "metadata": {},
   "outputs": [
    {
     "name": "stdout",
     "output_type": "stream",
     "text": [
      "Insira a medida de raio do círculo (cm): 10\n",
      "A área de um círculo de raio de 10.0cm é igual a 314.1592653589793cm²\n"
     ]
    }
   ],
   "source": [
    "import math\n",
    "\n",
    "raio = float(input(\"Insira a medida de raio do círculo (cm): \"))\n",
    "area = math.pi*raio**2\n",
    "print(f\"A área de um círculo de raio de {raio}cm é igual a {area}cm²\")"
   ]
  },
  {
   "cell_type": "code",
   "execution_count": null,
   "id": "217f15c6",
   "metadata": {},
   "outputs": [],
   "source": []
  }
 ],
 "metadata": {
  "kernelspec": {
   "display_name": "Python 3 (ipykernel)",
   "language": "python",
   "name": "python3"
  },
  "language_info": {
   "codemirror_mode": {
    "name": "ipython",
    "version": 3
   },
   "file_extension": ".py",
   "mimetype": "text/x-python",
   "name": "python",
   "nbconvert_exporter": "python",
   "pygments_lexer": "ipython3",
   "version": "3.9.13"
  }
 },
 "nbformat": 4,
 "nbformat_minor": 5
}
